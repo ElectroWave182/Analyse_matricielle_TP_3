{
 "cells": [
  {
   "cell_type": "markdown",
   "metadata": {},
   "source": [
    "# Exercice 1"
   ]
  },
  {
   "cell_type": "code",
   "execution_count": 2,
   "metadata": {},
   "outputs": [
    {
     "data": {
      "text/plain": [
       "log(5)"
      ]
     },
     "execution_count": 2,
     "metadata": {},
     "output_type": "execute_result"
    }
   ],
   "source": [
    "def f (x):\n",
    "\n",
    "    return ln (2 * x + 1)\n",
    "\n",
    "\n",
    "f (2)"
   ]
  },
  {
   "cell_type": "code",
   "execution_count": 29,
   "metadata": {},
   "outputs": [
    {
     "name": "stdout",
     "output_type": "stream",
     "text": [
      "3.50610631096008\n",
      "3.7911692808894664\n"
     ]
    }
   ],
   "source": [
    "def rectanglesGauche (n):\n",
    "    \n",
    "    debut = 0\n",
    "    fin = 3\n",
    "    \n",
    "    ecart = (fin - debut) / n\n",
    "    integrale = ecart * sum ([\n",
    "        f (iteration * ecart + debut)\n",
    "        for iteration in range (n)\n",
    "    ])\n",
    "    \n",
    "    return float (integrale)\n",
    "\n",
    "\n",
    "print (rectangleGauche (10))\n",
    "print (rectangleGauche (150))"
   ]
  },
  {
   "cell_type": "code",
   "execution_count": 28,
   "metadata": {},
   "outputs": [
    {
     "name": "stdout",
     "output_type": "stream",
     "text": [
      "3.816971529385809\n",
      "3.810714090021701\n"
     ]
    }
   ],
   "source": [
    "def rectanglesMilieu (n):\n",
    "    \n",
    "    debut = 0\n",
    "    fin = 3\n",
    "    \n",
    "    ecart = (fin - debut) / n\n",
    "    milieu = (debut + ecart) / 2\n",
    "    integrale = ecart * sum ([\n",
    "        f (iteration * ecart + milieu)\n",
    "        for iteration in range (n)\n",
    "    ])\n",
    "    \n",
    "    return float (integrale)\n",
    "\n",
    "\n",
    "print (rectanglesMilieu (10))\n",
    "print (rectanglesMilieu (150))"
   ]
  },
  {
   "cell_type": "code",
   "execution_count": 13,
   "metadata": {},
   "outputs": [
    {
     "name": "stdout",
     "output_type": "stream",
     "text": [
      "3.797992833318377\n",
      "3.8106283823800196\n"
     ]
    }
   ],
   "source": [
    "def trapezes (n):\n",
    "    \n",
    "    debut = 0\n",
    "    fin = 3\n",
    "    \n",
    "    ecart = (fin - debut) / n\n",
    "    integrale = ecart * (sum ([\n",
    "        f (iteration * ecart + debut)\n",
    "        for iteration in range (1, n)\n",
    "    ]) + (f (debut) + f (fin)) / 2)\n",
    "    \n",
    "    return float (integrale)\n",
    "\n",
    "\n",
    "print (trapezes (10))\n",
    "print (trapezes (150))"
   ]
  },
  {
   "cell_type": "code",
   "execution_count": null,
   "metadata": {},
   "outputs": [],
   "source": [
    "def simpson (n):\n",
    "    \n",
    "    pass"
   ]
  },
  {
   "cell_type": "code",
   "execution_count": 20,
   "metadata": {},
   "outputs": [
    {
     "name": "stdout",
     "output_type": "stream",
     "text": [
      "3.810685521693596\n"
     ]
    }
   ],
   "source": [
    "def F (x):\n",
    "    \n",
    "    u = 2 * x + 1\n",
    "    return (u * ln (u) - u) / 2\n",
    "\n",
    "\n",
    "integrale = F (3) - F (0)\n",
    "print (float (integrale))"
   ]
  },
  {
   "cell_type": "markdown",
   "metadata": {},
   "source": [
    "# Exercice 2 :"
   ]
  },
  {
   "cell_type": "code",
   "execution_count": 30,
   "metadata": {},
   "outputs": [
    {
     "data": {
      "text/plain": [
       "5"
      ]
     },
     "execution_count": 30,
     "metadata": {},
     "output_type": "execute_result"
    }
   ],
   "source": [
    "def g (x):\n",
    "    \n",
    "    return x ** 2 + 1\n",
    "\n",
    "\n",
    "g (2)"
   ]
  },
  {
   "cell_type": "code",
   "execution_count": 34,
   "metadata": {},
   "outputs": [
    {
     "name": "stdout",
     "output_type": "stream",
     "text": [
      "1.3523582551261562\n",
      "1.3429340064407078\n"
     ]
    }
   ],
   "source": [
    "from random import uniform\n",
    "\n",
    "\n",
    "def monteCarlo (n):\n",
    "    \n",
    "    debut = 0\n",
    "    fin = 1\n",
    "    \n",
    "    ecartMoyen = (fin - debut) / n\n",
    "    integrale = ecartMoyen * sum ([\n",
    "        g (uniform (debut, fin))\n",
    "        for _ in range (n)\n",
    "    ])\n",
    "    \n",
    "    return integrale\n",
    "\n",
    "\n",
    "print (float (monteCarlo (10)))\n",
    "print (float (monteCarlo (150)))"
   ]
  },
  {
   "cell_type": "code",
   "execution_count": 32,
   "metadata": {},
   "outputs": [
    {
     "name": "stdout",
     "output_type": "stream",
     "text": [
      "1.3333333333333333\n"
     ]
    }
   ],
   "source": [
    "def G (x):\n",
    "    \n",
    "    return x ** 3 / 3 + x\n",
    "\n",
    "\n",
    "integrale = G (1) - G (0)\n",
    "print (float (integrale))"
   ]
  },
  {
   "cell_type": "code",
   "execution_count": null,
   "metadata": {},
   "outputs": [],
   "source": []
  }
 ],
 "metadata": {
  "kernelspec": {
   "display_name": "SageMath 9.2",
   "language": "sage",
   "name": "sagemath"
  },
  "language_info": {
   "codemirror_mode": {
    "name": "ipython",
    "version": 3
   },
   "file_extension": ".py",
   "mimetype": "text/x-python",
   "name": "python",
   "nbconvert_exporter": "python",
   "pygments_lexer": "ipython3",
   "version": "3.7.7"
  }
 },
 "nbformat": 4,
 "nbformat_minor": 4
}
